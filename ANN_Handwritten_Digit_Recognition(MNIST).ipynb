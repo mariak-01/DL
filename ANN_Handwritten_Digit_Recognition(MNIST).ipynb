{
  "nbformat": 4,
  "nbformat_minor": 0,
  "metadata": {
    "colab": {
      "provenance": []
    },
    "kernelspec": {
      "name": "python3",
      "display_name": "Python 3"
    },
    "language_info": {
      "name": "python"
    }
  },
  "cells": [
    {
      "cell_type": "markdown",
      "source": [
        "# **Handwritten Digit Recognition (MNIST) - ANN**"
      ],
      "metadata": {
        "id": "HNE-Ojf691r3"
      }
    },
    {
      "cell_type": "markdown",
      "source": [
        "## **Import Libraries & Dataset**"
      ],
      "metadata": {
        "id": "Wfnvi1pL-6En"
      }
    },
    {
      "cell_type": "code",
      "execution_count": 130,
      "metadata": {
        "id": "kIF_NGxk9uWn"
      },
      "outputs": [],
      "source": [
        "# import libraries\n",
        "\n",
        "import numpy as np\n",
        "import pandas as pd\n",
        "import matplotlib.pyplot as plt\n",
        "import seaborn as sns\n",
        "import tensorflow as tf\n",
        "from tensorflow.keras.datasets import mnist\n",
        "from tensorflow.keras.models import Sequential\n",
        "from tensorflow.keras import layers\n",
        "from tensorflow.keras.optimizers import Adam"
      ]
    },
    {
      "cell_type": "code",
      "source": [
        "# load data\n",
        "\n",
        "(X_train, y_train), (X_test, y_test) = mnist.load_data()"
      ],
      "metadata": {
        "id": "ni0wssVDACP-"
      },
      "execution_count": 131,
      "outputs": []
    },
    {
      "cell_type": "markdown",
      "source": [
        "## **Exploratory Data Analysis**"
      ],
      "metadata": {
        "id": "v0GLENbwXtW6"
      }
    },
    {
      "cell_type": "code",
      "source": [
        "# shape\n",
        "\n",
        "print(f'X_train shape: {X_train.shape}')\n",
        "print(f'X_test shape: {X_test.shape}\\n')\n",
        "print(f'y_train shape: {y_train.shape}')\n",
        "print(f'y_test shape: {y_test.shape}')"
      ],
      "metadata": {
        "colab": {
          "base_uri": "https://localhost:8080/"
        },
        "id": "g8XfhRuLR2LK",
        "outputId": "e6b31691-fed1-4db8-d4f4-15f29b4dc44d"
      },
      "execution_count": 132,
      "outputs": [
        {
          "output_type": "stream",
          "name": "stdout",
          "text": [
            "X_train shape: (60000, 28, 28)\n",
            "X_test shape: (10000, 28, 28)\n",
            "\n",
            "y_train shape: (60000,)\n",
            "y_test shape: (10000,)\n"
          ]
        }
      ]
    },
    {
      "cell_type": "code",
      "source": [
        "# pixel value range\n",
        "\n",
        "print(f'{X_train.min()}, {X_train.max()}')"
      ],
      "metadata": {
        "colab": {
          "base_uri": "https://localhost:8080/"
        },
        "id": "ocw7bvkMQ62m",
        "outputId": "2bbe480a-5827-4105-8697-37e45497cfee"
      },
      "execution_count": 133,
      "outputs": [
        {
          "output_type": "stream",
          "name": "stdout",
          "text": [
            "0, 255\n"
          ]
        }
      ]
    },
    {
      "cell_type": "code",
      "source": [
        "# first 5 images\n",
        "\n",
        "plt.figure(figsize=(10, 5))\n",
        "\n",
        "for i in range(5):\n",
        "  plt.subplot(1, 5, i+1)\n",
        "  plt.imshow(X_train[i], cmap='gray')\n",
        "  plt.axis('off')\n",
        "plt.tight_layout()\n",
        "plt.show()"
      ],
      "metadata": {
        "colab": {
          "base_uri": "https://localhost:8080/",
          "height": 219
        },
        "id": "-ZIRTkABBBxD",
        "outputId": "22d2ee1c-c4df-42d3-d329-fced0d23f17f"
      },
      "execution_count": 134,
      "outputs": [
        {
          "output_type": "display_data",
          "data": {
            "text/plain": [
              "<Figure size 1000x500 with 5 Axes>"
            ],
            "image/png": "[encoded data removed]"
          },
          "metadata": {}
        }
      ]
    },
    {
      "cell_type": "code",
      "source": [
        "# class distribution\n",
        "\n",
        "y_train = y_train.ravel()\n",
        "\n",
        "plt.figure(figsize=(10, 5))\n",
        "sns.countplot(x=y_train, hue=y_train, palette='tab10', legend=False)\n",
        "plt.title(\"Class Distribution of Digits\")\n",
        "plt.xlabel(\"digits\")\n",
        "plt.show()"
      ],
      "metadata": {
        "colab": {
          "base_uri": "https://localhost:8080/",
          "height": 487
        },
        "id": "IkryAEtUSj3F",
        "outputId": "eac81d4f-3948-4b00-cf8a-8ab8283cf4c1"
      },
      "execution_count": 135,
      "outputs": [
        {
          "output_type": "display_data",
          "data": {
            "text/plain": [
              "<Figure size 1000x500 with 1 Axes>"
            ],
            "image/png": "[encoded data removed]"
          },
          "metadata": {}
        }
      ]
    },
    {
      "cell_type": "markdown",
      "source": [
        "## **Data Preprocessing**"
      ],
      "metadata": {
        "id": "E9HhejxKc7iq"
      }
    },
    {
      "cell_type": "code",
      "source": [
        "# normalize pixel values\n",
        "\n",
        "X_train = X_train / 255.0\n",
        "X_test = X_test / 255.0"
      ],
      "metadata": {
        "id": "dCu0FdIqTXC0"
      },
      "execution_count": 136,
      "outputs": []
    },
    {
      "cell_type": "code",
      "source": [
        "# flatten the input\n",
        "\n",
        "X_train = X_train.reshape(-1, 784)\n",
        "X_test = X_test.reshape(-1, 784)"
      ],
      "metadata": {
        "id": "7Zvo6ghzlUuT"
      },
      "execution_count": 137,
      "outputs": []
    },
    {
      "cell_type": "markdown",
      "source": [
        "## **Build the ANN model**"
      ],
      "metadata": {
        "id": "4Zy7oQZ4mncX"
      }
    },
    {
      "cell_type": "code",
      "source": [
        "# ann model\n",
        "\n",
        "model = Sequential([\n",
        "    layers.Input(shape=(784,)),\n",
        "    layers.Dense(128, activation='relu'),\n",
        "    layers.Dense(10, activation='softmax')\n",
        "])"
      ],
      "metadata": {
        "id": "wY91XgFtlWh_"
      },
      "execution_count": 138,
      "outputs": []
    },
    {
      "cell_type": "code",
      "source": [
        "# compile\n",
        "\n",
        "model.compile(optimizer='adam', loss='sparse_categorical_crossentropy', metrics=['accuracy'])"
      ],
      "metadata": {
        "id": "C3v9vyHfqXb3"
      },
      "execution_count": 139,
      "outputs": []
    },
    {
      "cell_type": "code",
      "source": [
        "# train\n",
        "\n",
        "model.fit(X_train, y_train, epochs=5, validation_split=0.1)"
      ],
      "metadata": {
        "colab": {
          "base_uri": "https://localhost:8080/"
        },
        "id": "ZJjpqQoiqvf4",
        "outputId": "8e9ea3a2-2ff7-447d-a9a5-2b6aacce47ec"
      },
      "execution_count": 140,
      "outputs": [
        {
          "output_type": "stream",
          "name": "stdout",
          "text": [
            "Epoch 1/5\n",
            "\u001b[1m1688/1688\u001b[0m \u001b[32m━━━━━━━━━━━━━━━━━━━━\u001b[0m\u001b[37m\u001b[0m \u001b[1m9s\u001b[0m 4ms/step - accuracy: 0.8700 - loss: 0.4578 - val_accuracy: 0.9628 - val_loss: 0.1299\n",
            "Epoch 2/5\n",
            "\u001b[1m1688/1688\u001b[0m \u001b[32m━━━━━━━━━━━━━━━━━━━━\u001b[0m\u001b[37m\u001b[0m \u001b[1m11s\u001b[0m 4ms/step - accuracy: 0.9630 - loss: 0.1313 - val_accuracy: 0.9672 - val_loss: 0.1104\n",
            "Epoch 3/5\n",
            "\u001b[1m1688/1688\u001b[0m \u001b[32m━━━━━━━━━━━━━━━━━━━━\u001b[0m\u001b[37m\u001b[0m \u001b[1m9s\u001b[0m 5ms/step - accuracy: 0.9730 - loss: 0.0873 - val_accuracy: 0.9792 - val_loss: 0.0746\n",
            "Epoch 4/5\n",
            "\u001b[1m1688/1688\u001b[0m \u001b[32m━━━━━━━━━━━━━━━━━━━━\u001b[0m\u001b[37m\u001b[0m \u001b[1m9s\u001b[0m 4ms/step - accuracy: 0.9811 - loss: 0.0634 - val_accuracy: 0.9770 - val_loss: 0.0755\n",
            "Epoch 5/5\n",
            "\u001b[1m1688/1688\u001b[0m \u001b[32m━━━━━━━━━━━━━━━━━━━━\u001b[0m\u001b[37m\u001b[0m \u001b[1m10s\u001b[0m 4ms/step - accuracy: 0.9868 - loss: 0.0454 - val_accuracy: 0.9800 - val_loss: 0.0690\n"
          ]
        },
        {
          "output_type": "execute_result",
          "data": {
            "text/plain": [
              "<keras.src.callbacks.history.History at 0x79c349d85610>"
            ]
          },
          "metadata": {},
          "execution_count": 140
        }
      ]
    },
    {
      "cell_type": "code",
      "source": [
        "X_test = X_test.reshape(-1, 784)"
      ],
      "metadata": {
        "id": "7xSqbMQ_GrrU"
      },
      "execution_count": 141,
      "outputs": []
    },
    {
      "cell_type": "code",
      "source": [
        "# evaluation\n",
        "\n",
        "test_loss, test_acc = model.evaluate(X_test, y_test)\n",
        "print(f'loss: {test_loss}, \\naccuracy: {test_acc}')"
      ],
      "metadata": {
        "colab": {
          "base_uri": "https://localhost:8080/"
        },
        "id": "ZZgmF45qrGJA",
        "outputId": "db049fe3-99dc-42d2-b31c-a181620304f8"
      },
      "execution_count": 142,
      "outputs": [
        {
          "output_type": "stream",
          "name": "stdout",
          "text": [
            "\u001b[1m313/313\u001b[0m \u001b[32m━━━━━━━━━━━━━━━━━━━━\u001b[0m\u001b[37m\u001b[0m \u001b[1m1s\u001b[0m 2ms/step - accuracy: 0.9730 - loss: 0.0852\n",
            "loss: 0.07514259219169617, \n",
            "accuracy: 0.9771999716758728\n"
          ]
        }
      ]
    },
    {
      "cell_type": "code",
      "source": [
        "# prediction\n",
        "\n",
        "prediction = model.predict(X_test)"
      ],
      "metadata": {
        "id": "vc7GsLbrvCO6"
      },
      "execution_count": 143,
      "outputs": []
    },
    {
      "cell_type": "code",
      "source": [
        "# visualize\n",
        "\n",
        "plt.figure(figsize=(10, 5))\n",
        "for i in range(5):\n",
        "  plt.subplot(1, 5, i+1)\n",
        "  plt.imshow(X_test[i].reshape(28, 28), cmap='gray')\n",
        "  plt.title(f'predicted: {np.argmax(prediction[i])}')\n",
        "  plt.axis('off')\n",
        "plt.show()"
      ],
      "metadata": {
        "colab": {
          "base_uri": "https://localhost:8080/",
          "height": 192
        },
        "id": "M70g-lhS-xKC",
        "outputId": "761e9a99-d4cf-480d-da0c-23a126d85708"
      },
      "execution_count": 148,
      "outputs": [
        {
          "output_type": "display_data",
          "data": {
            "text/plain": [
              "<Figure size 1000x500 with 5 Axes>"
            ],
            "image/png": "[encoded data removed]"
          },
          "metadata": {}
        }
      ]
    }
  ]
}